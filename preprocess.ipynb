{
 "cells": [
  {
   "cell_type": "markdown",
   "metadata": {},
   "source": [
    "# Imports"
   ]
  },
  {
   "cell_type": "code",
   "execution_count": 1,
   "metadata": {},
   "outputs": [],
   "source": [
    "import os\n",
    "import glob\n",
    "import pandas as pd\n",
    "from natsort import natsorted"
   ]
  },
  {
   "cell_type": "markdown",
   "metadata": {},
   "source": [
    "# Part 1"
   ]
  },
  {
   "cell_type": "code",
   "execution_count": null,
   "metadata": {},
   "outputs": [],
   "source": [
    "root_dir = os.getcwd()\n",
    "run = 'rome_static_medium'\n",
    "sched='sched0'\n",
    "train='tr0'\n",
    "exp='exp1'\n",
    "bs='bs1'\n",
    "bsdir = run + os.path.sep + sched + os.path.sep + train + os.path.sep + exp + os.path.sep + bs\n",
    "sched_dir = run + os.path.sep + sched\n"
   ]
  },
  {
   "cell_type": "code",
   "execution_count": null,
   "metadata": {},
   "outputs": [],
   "source": [
    "bsdir"
   ]
  },
  {
   "cell_type": "code",
   "execution_count": null,
   "metadata": {},
   "outputs": [],
   "source": [
    "os.listdir(bsdir)"
   ]
  },
  {
   "cell_type": "code",
   "execution_count": null,
   "metadata": {},
   "outputs": [],
   "source": [
    "all_files = glob.glob(os.path.join(bsdir, \"ue*.csv\"))\n"
   ]
  },
  {
   "cell_type": "code",
   "execution_count": null,
   "metadata": {},
   "outputs": [],
   "source": [
    "all_files"
   ]
  },
  {
   "cell_type": "code",
   "execution_count": null,
   "metadata": {},
   "outputs": [],
   "source": [
    "df_append = pd.DataFrame()\n",
    "for file in all_files:\n",
    "            df_temp = pd.read_csv(file)\n",
    "            df_temp['ue_id'] = file.split('.')[0].split('\\\\')[-1]\n",
    "            df_append = pd.concat([df_append, df_temp])\n",
    "            "
   ]
  },
  {
   "cell_type": "code",
   "execution_count": null,
   "metadata": {},
   "outputs": [],
   "source": [
    "df_append.shape"
   ]
  },
  {
   "cell_type": "code",
   "execution_count": null,
   "metadata": {},
   "outputs": [],
   "source": [
    "df_append.columns\n"
   ]
  },
  {
   "cell_type": "code",
   "execution_count": null,
   "metadata": {},
   "outputs": [],
   "source": [
    "df_append['time'].describe()"
   ]
  },
  {
   "cell_type": "code",
   "execution_count": null,
   "metadata": {},
   "outputs": [],
   "source": [
    "run_dir = run"
   ]
  },
  {
   "cell_type": "code",
   "execution_count": null,
   "metadata": {},
   "outputs": [],
   "source": [
    "run_dir"
   ]
  },
  {
   "cell_type": "code",
   "execution_count": null,
   "metadata": {},
   "outputs": [],
   "source": [
    "os.listdir(run_dir)"
   ]
  },
  {
   "cell_type": "code",
   "execution_count": null,
   "metadata": {},
   "outputs": [],
   "source": []
  },
  {
   "cell_type": "markdown",
   "metadata": {},
   "source": [
    "# Part2"
   ]
  },
  {
   "cell_type": "code",
   "execution_count": 2,
   "metadata": {},
   "outputs": [
    {
     "name": "stdout",
     "output_type": "stream",
     "text": [
      "g:\\My Drive\\Personal\\Streamlit\\git\\wineslab\\colosseum-oran-coloran-dataset\n"
     ]
    }
   ],
   "source": [
    "root_dir = os.getcwd()\n",
    "run = 'rome_static_medium'\n",
    "os.chdir(run)\n",
    "sched_list = natsorted(os.listdir())\n",
    "os.chdir(sched_list[1])\n",
    "train_list = natsorted(os.listdir())\n",
    "os.chdir(train_list[1])\n",
    "exp_list = natsorted(os.listdir())\n",
    "os.chdir(exp_list[1])\n",
    "bs_list = natsorted(os.listdir())\n",
    "os.chdir(root_dir)"
   ]
  },
  {
   "cell_type": "code",
   "execution_count": 19,
   "metadata": {},
   "outputs": [],
   "source": [
    "sep = os.path.sep\n",
    "bs_combo_df = pd.DataFrame()\n",
    "sched_list = natsorted(glob.glob(os.path.join((run),'sched*')))\n",
    "for s in sched_list:\n",
    "    tr_list = natsorted(glob.glob(os.path.join((s), 'tr*')))\n",
    "    for t in tr_list:\n",
    "        exp_list = natsorted(glob.glob(os.path.join((t), 'exp*')))\n",
    "        for e in exp_list:\n",
    "            bs_list = natsorted(glob.glob(os.path.join((e), 'bs*')))\n",
    "            for b in bs_list:\n",
    "                file_name = b.split(sep)[-1]\n",
    "                df_temp = pd.read_csv(b+ os.path.sep + file_name + '.csv')\n",
    "                sep = os.path.sep\n",
    "                df_temp['base_station'] = b\n",
    "                df_temp['exp'] = e\n",
    "                df_temp['training'] = t\n",
    "                df_temp['sched'] = s\n",
    "                bs_combo_df = pd.concat([bs_combo_df, df_temp])"
   ]
  },
  {
   "cell_type": "code",
   "execution_count": null,
   "metadata": {},
   "outputs": [],
   "source": [
    "all_files = glob.glob(os.path.join(bsdir, \"ue*.csv\"))\n",
    "#df = pd.concat((pd.read_csv(f) for f in all_files), ignore_index=True)\n",
    "df_combo_ue = pd.DataFrame()\n",
    "#append all files together\n",
    "for file in all_files:\n",
    "            df_temp = pd.read_csv(file)\n",
    "            sep = os.path.sep\n",
    "            df_temp['ue_id'] = file.split('.')[0].split(sep)[-1]\n",
    "            df_combo_ue = pd.concat([df_combo_ue, df_temp])"
   ]
  },
  {
   "cell_type": "code",
   "execution_count": null,
   "metadata": {},
   "outputs": [],
   "source": []
  },
  {
   "cell_type": "code",
   "execution_count": null,
   "metadata": {},
   "outputs": [],
   "source": []
  },
  {
   "cell_type": "code",
   "execution_count": null,
   "metadata": {},
   "outputs": [],
   "source": []
  },
  {
   "cell_type": "markdown",
   "metadata": {},
   "source": []
  }
 ],
 "metadata": {
  "kernelspec": {
   "display_name": "wineslab_310",
   "language": "python",
   "name": "python3"
  },
  "language_info": {
   "codemirror_mode": {
    "name": "ipython",
    "version": 3
   },
   "file_extension": ".py",
   "mimetype": "text/x-python",
   "name": "python",
   "nbconvert_exporter": "python",
   "pygments_lexer": "ipython3",
   "version": "3.10.14"
  }
 },
 "nbformat": 4,
 "nbformat_minor": 2
}
