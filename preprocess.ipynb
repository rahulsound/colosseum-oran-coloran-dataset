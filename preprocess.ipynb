{
 "cells": [
  {
   "cell_type": "markdown",
   "metadata": {},
   "source": [
    "# Imports"
   ]
  },
  {
   "cell_type": "code",
   "execution_count": 1,
   "metadata": {},
   "outputs": [],
   "source": [
    "import os\n",
    "import glob\n",
    "import pandas as pd\n",
    "from natsort import natsorted"
   ]
  },
  {
   "cell_type": "markdown",
   "metadata": {},
   "source": [
    "# Part 1"
   ]
  },
  {
   "cell_type": "code",
   "execution_count": null,
   "metadata": {},
   "outputs": [],
   "source": [
    "root_dir = os.getcwd()\n",
    "run = 'rome_static_medium'\n",
    "sched='sched0'\n",
    "train='tr0'\n",
    "exp='exp1'\n",
    "bs='bs1'\n",
    "bsdir = run + os.path.sep + sched + os.path.sep + train + os.path.sep + exp + os.path.sep + bs\n",
    "sched_dir = run + os.path.sep + sched\n"
   ]
  },
  {
   "cell_type": "code",
   "execution_count": null,
   "metadata": {},
   "outputs": [],
   "source": [
    "bsdir"
   ]
  },
  {
   "cell_type": "code",
   "execution_count": null,
   "metadata": {},
   "outputs": [],
   "source": [
    "os.listdir(bsdir)"
   ]
  },
  {
   "cell_type": "code",
   "execution_count": null,
   "metadata": {},
   "outputs": [],
   "source": [
    "all_files = glob.glob(os.path.join(bsdir, \"ue*.csv\"))\n"
   ]
  },
  {
   "cell_type": "code",
   "execution_count": null,
   "metadata": {},
   "outputs": [],
   "source": [
    "all_files"
   ]
  },
  {
   "cell_type": "code",
   "execution_count": null,
   "metadata": {},
   "outputs": [],
   "source": [
    "df_append = pd.DataFrame()\n",
    "for file in all_files:\n",
    "            df_temp = pd.read_csv(file)\n",
    "            df_temp['ue_id'] = file.split('.')[0].split('\\\\')[-1]\n",
    "            df_append = pd.concat([df_append, df_temp])\n",
    "            "
   ]
  },
  {
   "cell_type": "code",
   "execution_count": null,
   "metadata": {},
   "outputs": [],
   "source": [
    "df_append.shape"
   ]
  },
  {
   "cell_type": "code",
   "execution_count": null,
   "metadata": {},
   "outputs": [],
   "source": [
    "df_append.columns\n"
   ]
  },
  {
   "cell_type": "code",
   "execution_count": null,
   "metadata": {},
   "outputs": [],
   "source": [
    "df_append['time'].describe()"
   ]
  },
  {
   "cell_type": "code",
   "execution_count": null,
   "metadata": {},
   "outputs": [],
   "source": [
    "run_dir = run"
   ]
  },
  {
   "cell_type": "code",
   "execution_count": null,
   "metadata": {},
   "outputs": [],
   "source": [
    "run_dir"
   ]
  },
  {
   "cell_type": "code",
   "execution_count": null,
   "metadata": {},
   "outputs": [],
   "source": [
    "os.listdir(run_dir)"
   ]
  },
  {
   "cell_type": "code",
   "execution_count": null,
   "metadata": {},
   "outputs": [],
   "source": []
  },
  {
   "cell_type": "markdown",
   "metadata": {},
   "source": [
    "# Part2"
   ]
  },
  {
   "cell_type": "code",
   "execution_count": 2,
   "metadata": {},
   "outputs": [],
   "source": [
    "root_dir = os.getcwd()\n",
    "run = 'rome_static_medium'\n",
    "os.chdir(run)\n",
    "sched_list = natsorted(os.listdir())\n",
    "os.chdir(sched_list[1])\n",
    "train_list = natsorted(os.listdir())\n",
    "os.chdir(train_list[1])\n",
    "exp_list = natsorted(os.listdir())\n",
    "os.chdir(exp_list[1])\n",
    "bs_list = natsorted(os.listdir())\n",
    "os.chdir(root_dir)"
   ]
  },
  {
   "cell_type": "code",
   "execution_count": 6,
   "metadata": {},
   "outputs": [],
   "source": [
    "sep = os.path.sep\n",
    "bs_combo_df = pd.DataFrame()\n",
    "sched_list = natsorted(glob.glob(os.path.join((run),'sched*')))\n",
    "for s in sched_list[0:2]:\n",
    "    tr_list = natsorted(glob.glob(os.path.join((s), 'tr*')))\n",
    "    for t in tr_list[0:1]:\n",
    "        exp_list = natsorted(glob.glob(os.path.join((t), 'exp*')))\n",
    "        for e in exp_list[0:1]:\n",
    "            bs_list = natsorted(glob.glob(os.path.join((e), 'bs*')))\n",
    "            for b in bs_list[0:1]:\n",
    "                file_name = b.split(sep)[-1]\n",
    "                df_temp = pd.read_csv(b+ os.path.sep + file_name + '.csv')\n",
    "                sep = os.path.sep\n",
    "                df_temp['base_station'] = b.split(sep)[-1]\n",
    "                df_temp['exp'] = e.split(sep)[-1]\n",
    "                df_temp['training'] = t.split(sep)[-1]\n",
    "                df_temp['sched'] = s.split(sep)[-1]\n",
    "                bs_combo_df = pd.concat([bs_combo_df, df_temp])"
   ]
  },
  {
   "cell_type": "code",
   "execution_count": 7,
   "metadata": {},
   "outputs": [
    {
     "data": {
      "text/html": [
       "<div>\n",
       "<style scoped>\n",
       "    .dataframe tbody tr th:only-of-type {\n",
       "        vertical-align: middle;\n",
       "    }\n",
       "\n",
       "    .dataframe tbody tr th {\n",
       "        vertical-align: top;\n",
       "    }\n",
       "\n",
       "    .dataframe thead th {\n",
       "        text-align: right;\n",
       "    }\n",
       "</style>\n",
       "<table border=\"1\" class=\"dataframe\">\n",
       "  <thead>\n",
       "    <tr style=\"text-align: right;\">\n",
       "      <th></th>\n",
       "      <th>time</th>\n",
       "      <th>nof_ue</th>\n",
       "      <th>dl_brate</th>\n",
       "      <th>ul_brate</th>\n",
       "      <th>base_station</th>\n",
       "      <th>exp</th>\n",
       "      <th>training</th>\n",
       "      <th>sched</th>\n",
       "    </tr>\n",
       "  </thead>\n",
       "  <tbody>\n",
       "    <tr>\n",
       "      <th>0</th>\n",
       "      <td>1617070465976</td>\n",
       "      <td>0.0</td>\n",
       "      <td>0.0</td>\n",
       "      <td>0.0</td>\n",
       "      <td>bs1</td>\n",
       "      <td>exp1</td>\n",
       "      <td>tr0</td>\n",
       "      <td>sched0</td>\n",
       "    </tr>\n",
       "    <tr>\n",
       "      <th>1</th>\n",
       "      <td>1617070466226</td>\n",
       "      <td>0.0</td>\n",
       "      <td>0.0</td>\n",
       "      <td>0.0</td>\n",
       "      <td>bs1</td>\n",
       "      <td>exp1</td>\n",
       "      <td>tr0</td>\n",
       "      <td>sched0</td>\n",
       "    </tr>\n",
       "    <tr>\n",
       "      <th>2</th>\n",
       "      <td>1617070466475</td>\n",
       "      <td>0.0</td>\n",
       "      <td>0.0</td>\n",
       "      <td>0.0</td>\n",
       "      <td>bs1</td>\n",
       "      <td>exp1</td>\n",
       "      <td>tr0</td>\n",
       "      <td>sched0</td>\n",
       "    </tr>\n",
       "    <tr>\n",
       "      <th>3</th>\n",
       "      <td>1617070466726</td>\n",
       "      <td>0.0</td>\n",
       "      <td>0.0</td>\n",
       "      <td>0.0</td>\n",
       "      <td>bs1</td>\n",
       "      <td>exp1</td>\n",
       "      <td>tr0</td>\n",
       "      <td>sched0</td>\n",
       "    </tr>\n",
       "    <tr>\n",
       "      <th>4</th>\n",
       "      <td>1617070466975</td>\n",
       "      <td>0.0</td>\n",
       "      <td>0.0</td>\n",
       "      <td>0.0</td>\n",
       "      <td>bs1</td>\n",
       "      <td>exp1</td>\n",
       "      <td>tr0</td>\n",
       "      <td>sched0</td>\n",
       "    </tr>\n",
       "    <tr>\n",
       "      <th>...</th>\n",
       "      <td>...</td>\n",
       "      <td>...</td>\n",
       "      <td>...</td>\n",
       "      <td>...</td>\n",
       "      <td>...</td>\n",
       "      <td>...</td>\n",
       "      <td>...</td>\n",
       "      <td>...</td>\n",
       "    </tr>\n",
       "    <tr>\n",
       "      <th>2273</th>\n",
       "      <td>1612884699208</td>\n",
       "      <td>6.0</td>\n",
       "      <td>1586112.0</td>\n",
       "      <td>103456.0</td>\n",
       "      <td>bs1</td>\n",
       "      <td>exp1</td>\n",
       "      <td>tr0</td>\n",
       "      <td>sched1</td>\n",
       "    </tr>\n",
       "    <tr>\n",
       "      <th>2274</th>\n",
       "      <td>1612884699458</td>\n",
       "      <td>6.0</td>\n",
       "      <td>1879168.0</td>\n",
       "      <td>34112.0</td>\n",
       "      <td>bs1</td>\n",
       "      <td>exp1</td>\n",
       "      <td>tr0</td>\n",
       "      <td>sched1</td>\n",
       "    </tr>\n",
       "    <tr>\n",
       "      <th>2275</th>\n",
       "      <td>1612884699708</td>\n",
       "      <td>6.0</td>\n",
       "      <td>1843872.0</td>\n",
       "      <td>17056.0</td>\n",
       "      <td>bs1</td>\n",
       "      <td>exp1</td>\n",
       "      <td>tr0</td>\n",
       "      <td>sched1</td>\n",
       "    </tr>\n",
       "    <tr>\n",
       "      <th>2276</th>\n",
       "      <td>1612884699958</td>\n",
       "      <td>6.0</td>\n",
       "      <td>1631808.0</td>\n",
       "      <td>254144.0</td>\n",
       "      <td>bs1</td>\n",
       "      <td>exp1</td>\n",
       "      <td>tr0</td>\n",
       "      <td>sched1</td>\n",
       "    </tr>\n",
       "    <tr>\n",
       "      <th>2277</th>\n",
       "      <td>1612884700208</td>\n",
       "      <td>6.0</td>\n",
       "      <td>1732896.0</td>\n",
       "      <td>NaN</td>\n",
       "      <td>bs1</td>\n",
       "      <td>exp1</td>\n",
       "      <td>tr0</td>\n",
       "      <td>sched1</td>\n",
       "    </tr>\n",
       "  </tbody>\n",
       "</table>\n",
       "<p>4525 rows × 8 columns</p>\n",
       "</div>"
      ],
      "text/plain": [
       "               time  nof_ue   dl_brate  ul_brate base_station   exp training  \\\n",
       "0     1617070465976     0.0        0.0       0.0          bs1  exp1      tr0   \n",
       "1     1617070466226     0.0        0.0       0.0          bs1  exp1      tr0   \n",
       "2     1617070466475     0.0        0.0       0.0          bs1  exp1      tr0   \n",
       "3     1617070466726     0.0        0.0       0.0          bs1  exp1      tr0   \n",
       "4     1617070466975     0.0        0.0       0.0          bs1  exp1      tr0   \n",
       "...             ...     ...        ...       ...          ...   ...      ...   \n",
       "2273  1612884699208     6.0  1586112.0  103456.0          bs1  exp1      tr0   \n",
       "2274  1612884699458     6.0  1879168.0   34112.0          bs1  exp1      tr0   \n",
       "2275  1612884699708     6.0  1843872.0   17056.0          bs1  exp1      tr0   \n",
       "2276  1612884699958     6.0  1631808.0  254144.0          bs1  exp1      tr0   \n",
       "2277  1612884700208     6.0  1732896.0       NaN          bs1  exp1      tr0   \n",
       "\n",
       "       sched  \n",
       "0     sched0  \n",
       "1     sched0  \n",
       "2     sched0  \n",
       "3     sched0  \n",
       "4     sched0  \n",
       "...      ...  \n",
       "2273  sched1  \n",
       "2274  sched1  \n",
       "2275  sched1  \n",
       "2276  sched1  \n",
       "2277  sched1  \n",
       "\n",
       "[4525 rows x 8 columns]"
      ]
     },
     "execution_count": 7,
     "metadata": {},
     "output_type": "execute_result"
    }
   ],
   "source": [
    "bs_combo_df"
   ]
  },
  {
   "cell_type": "code",
   "execution_count": null,
   "metadata": {},
   "outputs": [],
   "source": [
    "bs_combo_df.to_csv('bs_combo_df.csv')"
   ]
  },
  {
   "cell_type": "code",
   "execution_count": null,
   "metadata": {},
   "outputs": [],
   "source": [
    "all_files = glob.glob(os.path.join(bsdir, \"ue*.csv\"))\n",
    "#df = pd.concat((pd.read_csv(f) for f in all_files), ignore_index=True)\n",
    "df_combo_ue = pd.DataFrame()\n",
    "#append all files together\n",
    "for file in all_files:\n",
    "            df_temp = pd.read_csv(file)\n",
    "            sep = os.path.sep\n",
    "            df_temp['ue_id'] = file.split('.')[0].split(sep)[-1]\n",
    "            df_combo_ue = pd.concat([df_combo_ue, df_temp])"
   ]
  },
  {
   "cell_type": "code",
   "execution_count": null,
   "metadata": {},
   "outputs": [],
   "source": []
  },
  {
   "cell_type": "code",
   "execution_count": null,
   "metadata": {},
   "outputs": [],
   "source": []
  },
  {
   "cell_type": "code",
   "execution_count": null,
   "metadata": {},
   "outputs": [],
   "source": []
  },
  {
   "cell_type": "markdown",
   "metadata": {},
   "source": []
  }
 ],
 "metadata": {
  "kernelspec": {
   "display_name": "wineslab_310",
   "language": "python",
   "name": "python3"
  },
  "language_info": {
   "codemirror_mode": {
    "name": "ipython",
    "version": 3
   },
   "file_extension": ".py",
   "mimetype": "text/x-python",
   "name": "python",
   "nbconvert_exporter": "python",
   "pygments_lexer": "ipython3",
   "version": "3.10.14"
  }
 },
 "nbformat": 4,
 "nbformat_minor": 2
}
