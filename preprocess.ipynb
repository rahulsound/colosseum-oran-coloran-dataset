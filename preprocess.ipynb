{
 "cells": [
  {
   "cell_type": "code",
   "execution_count": 1,
   "metadata": {},
   "outputs": [],
   "source": [
    "import os\n",
    "import glob\n",
    "import pandas as pd\n"
   ]
  },
  {
   "cell_type": "code",
   "execution_count": null,
   "metadata": {},
   "outputs": [],
   "source": []
  },
  {
   "cell_type": "code",
   "execution_count": 2,
   "metadata": {},
   "outputs": [],
   "source": [
    "# sched = 'sched0'\n",
    "# tr = 'tr0'\n",
    "# exp = 'exp1'\n",
    "# bs = 'bs2'\n",
    "# csv = 'bs2'"
   ]
  },
  {
   "cell_type": "code",
   "execution_count": 3,
   "metadata": {},
   "outputs": [],
   "source": [
    "root_dir = os.getcwd()\n",
    "run = 'rome_static_medium'\n",
    "sched='sched0'\n",
    "train='tr0'\n",
    "exp='exp1'\n",
    "bs='bs1'\n",
    "bsdir = run + os.path.sep + sched + os.path.sep + train + os.path.sep + exp + os.path.sep + bs\n"
   ]
  },
  {
   "cell_type": "code",
   "execution_count": 4,
   "metadata": {},
   "outputs": [
    {
     "data": {
      "text/plain": [
       "'rome_static_medium\\\\sched0\\\\tr0\\\\exp1\\\\bs1'"
      ]
     },
     "execution_count": 4,
     "metadata": {},
     "output_type": "execute_result"
    }
   ],
   "source": [
    "bsdir"
   ]
  },
  {
   "cell_type": "code",
   "execution_count": 5,
   "metadata": {},
   "outputs": [
    {
     "data": {
      "text/plain": [
       "['bs1.csv',\n",
       " 'slices_bs1',\n",
       " 'ue1.csv',\n",
       " 'ue2.csv',\n",
       " 'ue3.csv',\n",
       " 'ue4.csv',\n",
       " 'ue5.csv',\n",
       " 'ue6.csv']"
      ]
     },
     "execution_count": 5,
     "metadata": {},
     "output_type": "execute_result"
    }
   ],
   "source": [
    "os.listdir(bsdir)"
   ]
  },
  {
   "cell_type": "code",
   "execution_count": 6,
   "metadata": {},
   "outputs": [],
   "source": [
    "all_files = glob.glob(os.path.join(bsdir, \"ue*.csv\"))\n"
   ]
  },
  {
   "cell_type": "code",
   "execution_count": 7,
   "metadata": {},
   "outputs": [
    {
     "data": {
      "text/plain": [
       "['rome_static_medium\\\\sched0\\\\tr0\\\\exp1\\\\bs1\\\\ue1.csv',\n",
       " 'rome_static_medium\\\\sched0\\\\tr0\\\\exp1\\\\bs1\\\\ue2.csv',\n",
       " 'rome_static_medium\\\\sched0\\\\tr0\\\\exp1\\\\bs1\\\\ue3.csv',\n",
       " 'rome_static_medium\\\\sched0\\\\tr0\\\\exp1\\\\bs1\\\\ue4.csv',\n",
       " 'rome_static_medium\\\\sched0\\\\tr0\\\\exp1\\\\bs1\\\\ue5.csv',\n",
       " 'rome_static_medium\\\\sched0\\\\tr0\\\\exp1\\\\bs1\\\\ue6.csv']"
      ]
     },
     "execution_count": 7,
     "metadata": {},
     "output_type": "execute_result"
    }
   ],
   "source": [
    "all_files"
   ]
  },
  {
   "cell_type": "code",
   "execution_count": 19,
   "metadata": {},
   "outputs": [],
   "source": [
    "df_append = pd.DataFrame()\n",
    "for file in all_files:\n",
    "            df_temp = pd.read_csv(file)\n",
    "            df_temp['ue_id'] = file.split('.')[0].split('\\\\')[-1]\n",
    "            df_append = pd.concat([df_append, df_temp])\n",
    "            "
   ]
  },
  {
   "cell_type": "code",
   "execution_count": 20,
   "metadata": {},
   "outputs": [
    {
     "data": {
      "text/plain": [
       "(12452, 22)"
      ]
     },
     "execution_count": 20,
     "metadata": {},
     "output_type": "execute_result"
    }
   ],
   "source": [
    "df_append.shape"
   ]
  },
  {
   "cell_type": "code",
   "execution_count": 21,
   "metadata": {},
   "outputs": [
    {
     "data": {
      "text/plain": [
       "Index(['time', 'cc', 'pci', 'earfcn', 'rsrp', 'pl', 'cfo', 'dl_mcs', 'dl_snr',\n",
       "       'dl_turbo', 'dl_brate', 'dl_bler', 'ul_ta', 'ul_mcs', 'ul_buff',\n",
       "       'ul_brate', 'ul_bler', 'rf_o', 'rf_u', 'rf_l', 'is_attached', 'ue_id'],\n",
       "      dtype='object')"
      ]
     },
     "execution_count": 21,
     "metadata": {},
     "output_type": "execute_result"
    }
   ],
   "source": [
    "df_append.columns\n"
   ]
  },
  {
   "cell_type": "code",
   "execution_count": 23,
   "metadata": {},
   "outputs": [
    {
     "data": {
      "text/plain": [
       "count     12452.000000\n",
       "mean     258286.482172\n",
       "std      149236.098939\n",
       "min           0.000000\n",
       "25%      128983.000000\n",
       "50%      258213.500000\n",
       "75%      387444.000000\n",
       "max      523647.000000\n",
       "Name: time, dtype: float64"
      ]
     },
     "execution_count": 23,
     "metadata": {},
     "output_type": "execute_result"
    }
   ],
   "source": [
    "df_append['time'].describe()"
   ]
  },
  {
   "cell_type": "code",
   "execution_count": null,
   "metadata": {},
   "outputs": [],
   "source": []
  }
 ],
 "metadata": {
  "kernelspec": {
   "display_name": "wineslab_310",
   "language": "python",
   "name": "python3"
  },
  "language_info": {
   "codemirror_mode": {
    "name": "ipython",
    "version": 3
   },
   "file_extension": ".py",
   "mimetype": "text/x-python",
   "name": "python",
   "nbconvert_exporter": "python",
   "pygments_lexer": "ipython3",
   "version": "3.10.14"
  }
 },
 "nbformat": 4,
 "nbformat_minor": 2
}
